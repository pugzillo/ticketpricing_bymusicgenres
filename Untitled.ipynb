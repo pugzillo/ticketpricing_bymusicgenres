{
 "cells": [
  {
   "cell_type": "code",
   "execution_count": 6,
   "metadata": {},
   "outputs": [],
   "source": [
    "%matplotlib inline\n",
    "\n",
    "import numpy as np\n",
    "import pandas as pd\n",
    "import matplotlib.pyplot as plt\n",
    "import glob\n",
    "import re\n",
    "import scipy.stats as stats\n",
    "import seaborn as sns\n",
    "\n",
    "sns.set(style='ticks', color_codes = True)"
   ]
  },
  {
   "cell_type": "code",
   "execution_count": null,
   "metadata": {},
   "outputs": [],
   "source": [
    "# reading in spotify outputs from the directory\n",
    "songfeat = pd.DataFrame()\n",
    "\n",
    "for file in glob.glob(\"*_SongInfo.csv\"):\n",
    "    temp = pd.read_csv(file, sep=\",\")\n",
    "    temp['artist'] = re.sub('_SongInfo.csv', '', file)\n",
    "    songfeat = songfeat.append(temp)"
   ]
  },
  {
   "cell_type": "code",
   "execution_count": null,
   "metadata": {},
   "outputs": [],
   "source": []
  }
 ],
 "metadata": {
  "kernelspec": {
   "display_name": "Python 3",
   "language": "python",
   "name": "python3"
  },
  "language_info": {
   "codemirror_mode": {
    "name": "ipython",
    "version": 3
   },
   "file_extension": ".py",
   "mimetype": "text/x-python",
   "name": "python",
   "nbconvert_exporter": "python",
   "pygments_lexer": "ipython3",
   "version": "3.7.3"
  }
 },
 "nbformat": 4,
 "nbformat_minor": 2
}
