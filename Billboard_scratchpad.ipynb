{
 "cells": [
  {
   "cell_type": "code",
   "execution_count": 9,
   "metadata": {},
   "outputs": [],
   "source": [
    "import billboard"
   ]
  },
  {
   "cell_type": "code",
   "execution_count": 10,
   "metadata": {},
   "outputs": [
    {
     "data": {
      "text/plain": [
       "'The Hot 100'"
      ]
     },
     "execution_count": 10,
     "metadata": {},
     "output_type": "execute_result"
    }
   ],
   "source": [
    "chart = billboard.ChartData('hot-100')\n",
    "chart.title"
   ]
  },
  {
   "cell_type": "code",
   "execution_count": 11,
   "metadata": {},
   "outputs": [
    {
     "data": {
      "text/plain": [
       "'Truth Hurts'"
      ]
     },
     "execution_count": 11,
     "metadata": {},
     "output_type": "execute_result"
    }
   ],
   "source": [
    "song = chart[0]\n",
    "song.title"
   ]
  },
  {
   "cell_type": "code",
   "execution_count": 12,
   "metadata": {},
   "outputs": [
    {
     "data": {
      "text/plain": [
       "'Lizzo'"
      ]
     },
     "execution_count": 12,
     "metadata": {},
     "output_type": "execute_result"
    }
   ],
   "source": [
    "song.artist"
   ]
  },
  {
   "cell_type": "code",
   "execution_count": 13,
   "metadata": {},
   "outputs": [
    {
     "data": {
      "text/plain": [
       "22"
      ]
     },
     "execution_count": 13,
     "metadata": {},
     "output_type": "execute_result"
    }
   ],
   "source": [
    "song.weeks"
   ]
  },
  {
   "cell_type": "code",
   "execution_count": 14,
   "metadata": {},
   "outputs": [
    {
     "name": "stdout",
     "output_type": "stream",
     "text": [
      "hot-100 chart from 2019-10-12\n",
      "-----------------------------\n",
      "1. 'Truth Hurts' by Lizzo\n",
      "2. 'Senorita' by Shawn Mendes & Camila Cabello\n",
      "3. 'Someone You Loved' by Lewis Capaldi\n",
      "4. 'Ran$om' by Lil Tecca\n",
      "5. 'No Guidance' by Chris Brown Featuring Drake\n",
      "6. 'Bad Guy' by Billie Eilish\n",
      "7. 'Circles' by Post Malone\n",
      "8. 'Panini' by Lil Nas X\n",
      "9. 'Goodbyes' by Post Malone Featuring Young Thug\n",
      "10. 'Old Town Road' by Lil Nas X Featuring Billy Ray Cyrus\n",
      "11. 'I Don't Care' by Ed Sheeran & Justin Bieber\n",
      "12. 'Talk' by Khalid\n",
      "13. 'INTRO' by DaBaby\n",
      "14. 'Beautiful People' by Ed Sheeran Featuring Khalid\n",
      "15. 'Sunflower (Spider-Man: Into The Spider-Verse)' by Post Malone & Swae Lee\n",
      "16. 'Sucker' by Jonas Brothers\n",
      "17. 'Money In The Grave' by Drake Featuring Rick Ross\n",
      "18. 'Trampoline' by SHAED\n",
      "19. 'BOP' by DaBaby\n",
      "20. 'Suge' by DaBaby\n",
      "21. 'VIBEZ' by DaBaby\n",
      "22. 'Only Human' by Jonas Brothers\n",
      "23. 'On Chill' by Wale Featuring Jeremih\n",
      "24. 'How Do You Sleep?' by Sam Smith\n",
      "25. 'Hot Girl Summer' by Megan Thee Stallion, Nicki Minaj & Ty Dolla $ign\n",
      "26. 'Baby' by Lil Baby & DaBaby\n",
      "27. 'You Need To Calm Down' by Taylor Swift\n",
      "28. 'TOES' by DaBaby Featuring Lil Baby & Moneybagg Yo\n",
      "29. 'Memories' by Maroon 5\n",
      "30. 'Good As Hell' by Lizzo\n",
      "31. 'Dancing With A Stranger' by Sam Smith & Normani\n",
      "32. 'My Type' by Saweetie\n",
      "33. 'Without Me' by Halsey\n",
      "34. '223's' by YNW Melly & 9lokknine\n",
      "35. 'Wow.' by Post Malone\n",
      "36. 'Boyfriend' by Ariana Grande & Social House\n",
      "37. 'Hot' by Young Thug Featuring Gunna\n",
      "38. 'One Thing Right' by Marshmello & Kane Brown\n",
      "39. 'The Git Up' by Blanco Brown\n",
      "40. 'Take What You Want' by Post Malone Featuring Ozzy Osbourne & Travis Scott\n",
      "41. 'If I Can't Have You' by Shawn Mendes\n",
      "42. 'Camelot' by NLE Choppa\n",
      "43. 'iPHONE' by DaBaby & Nicki Minaj\n",
      "44. 'Cash Shit' by Megan Thee Stallion Featuring DaBaby\n",
      "45. 'Lover' by Taylor Swift\n",
      "46. 'Prayed For You' by Matt Stell\n",
      "47. 'OFF THE RIP' by DaBaby\n",
      "48. 'I Don't Know About You' by Chris Lane\n",
      "49. 'POP STAR' by DaBaby Featuring Kevin Gates\n",
      "50. 'The London' by Young Thug, J. Cole & Travis Scott\n",
      "51. 'RAW SHIT' by DaBaby Featuring Migos\n",
      "52. 'Enemies' by Post Malone Featuring DaBaby\n",
      "53. 'Ballin'' by Mustard Featuring Roddy Ricch\n",
      "54. 'Time' by NF\n",
      "55. 'GOSPEL' by DaBaby Featuring Chance The Rapper, Gucci Mane & YK Osiris\n",
      "56. 'Writing On The Wall' by French Montana Featuring Post Malone, Cardi B & Rvssian\n",
      "57. 'Heat' by Chris Brown Featuring Gunna\n",
      "58. 'Even Though I'm Leaving' by Luke Combs\n",
      "59. 'Living' by Dierks Bentley\n",
      "60. 'Graveyard' by Halsey\n",
      "61. 'Liar' by Camila Cabello\n",
      "62. 'One Man Band' by Old Dominion\n",
      "63. 'REALLY' by DaBaby Featuring Stunna 4 Vegas\n",
      "64. 'Southbound' by Carrie Underwood\n",
      "65. 'Love You Too Late' by Cole Swindell\n",
      "66. 'Good Vibes' by Chris Janson\n",
      "67. 'Motivation' by Normani\n",
      "68. 'Saint-Tropez' by Post Malone\n",
      "69. 'XXL' by DaBaby\n",
      "70. 'China' by Anuel AA, Daddy Yankee, Karol G, Ozuna & J Balvin\n",
      "71. 'Don't Call Me Angel (Charlie's Angels)' by Ariana Grande, Miley Cyrus & Lana Del Rey\n",
      "72. 'Lalala' by Y2K & bbno$\n",
      "73. 'PROLLY HEARD' by DaBaby\n",
      "74. 'Hollywood's Bleeding' by Post Malone\n",
      "75. 'Playing Games' by Summer Walker\n",
      "76. 'Hot Girl Bummer' by blackbear\n",
      "77. 'Every Little Thing' by Russell Dickerson\n",
      "78. 'Otro Trago' by Sech, Darell, Nicky Jam, Ozuna & Anuel AA\n",
      "79. 'Baby Sitter' by DaBaby Featuring Offset\n",
      "80. 'Die For Me' by Post Malone Featuring Future & Halsey\n",
      "81. 'Chicken Noodle Soup' by j-hope Featuring Becky G.\n",
      "82. 'Callaita' by Bad Bunny & Tainy\n",
      "83. 'Tip Of My Tongue' by Kenny Chesney\n",
      "84. 'Heartache Medication' by Jon Pardi\n",
      "85. 'What Happens In A Small Town' by Brantley Gilbert + Lindsay Ell\n",
      "86. 'By My Lonely' by Kevin Gates\n",
      "87. 'On The Road' by Post Malone Featuring Meek Mill & Lil Baby\n",
      "88. 'Right Back' by Khalid Featuring A Boogie Wit da Hoodie\n",
      "89. 'There He Go' by DaBaby\n",
      "90. 'F.N' by Lil Tjay\n",
      "91. 'Remember You Young' by Thomas Rhett\n",
      "92. 'The Ones That Didn't Make It Back Home' by Justin Moore\n",
      "93. 'Bad Bad Bad' by Young Thug Featuring Lil Baby\n",
      "94. 'Wish Wish' by DJ Khaled Featuring Cardi B & 21 Savage\n",
      "95. 'Higher Love' by Kygo X Whitney Houston\n",
      "96. 'Self Control' by YoungBoy Never Broke Again\n",
      "97. 'No Me Conoce' by Jhay Cortez, J Balvin & Bad Bunny\n",
      "98. 'Adicto' by Tainy, Anuel AA & Ozuna\n",
      "99. 'What If I Never Get Over You' by Lady Antebellum\n",
      "100. 'Did It Again' by Lil Tecca\n"
     ]
    }
   ],
   "source": [
    "print(chart)"
   ]
  },
  {
   "cell_type": "code",
   "execution_count": null,
   "metadata": {},
   "outputs": [],
   "source": [
    "# chart.previousDate"
   ]
  },
  {
   "cell_type": "code",
   "execution_count": 18,
   "metadata": {},
   "outputs": [
    {
     "name": "stdout",
     "output_type": "stream",
     "text": [
      "hot-100 chart from 2019-10-12\n",
      "-----------------------------\n",
      "1. 'Truth Hurts' by Lizzo\n",
      "2. 'Senorita' by Shawn Mendes & Camila Cabello\n",
      "3. 'Someone You Loved' by Lewis Capaldi\n",
      "4. 'Ran$om' by Lil Tecca\n",
      "5. 'No Guidance' by Chris Brown Featuring Drake\n",
      "6. 'Bad Guy' by Billie Eilish\n",
      "7. 'Circles' by Post Malone\n",
      "8. 'Panini' by Lil Nas X\n",
      "9. 'Goodbyes' by Post Malone Featuring Young Thug\n",
      "10. 'Old Town Road' by Lil Nas X Featuring Billy Ray Cyrus\n",
      "11. 'I Don't Care' by Ed Sheeran & Justin Bieber\n",
      "12. 'Talk' by Khalid\n",
      "13. 'INTRO' by DaBaby\n",
      "14. 'Beautiful People' by Ed Sheeran Featuring Khalid\n",
      "15. 'Sunflower (Spider-Man: Into The Spider-Verse)' by Post Malone & Swae Lee\n",
      "16. 'Sucker' by Jonas Brothers\n",
      "17. 'Money In The Grave' by Drake Featuring Rick Ross\n",
      "18. 'Trampoline' by SHAED\n",
      "19. 'BOP' by DaBaby\n",
      "20. 'Suge' by DaBaby\n",
      "21. 'VIBEZ' by DaBaby\n",
      "22. 'Only Human' by Jonas Brothers\n",
      "23. 'On Chill' by Wale Featuring Jeremih\n",
      "24. 'How Do You Sleep?' by Sam Smith\n",
      "25. 'Hot Girl Summer' by Megan Thee Stallion, Nicki Minaj & Ty Dolla $ign\n",
      "26. 'Baby' by Lil Baby & DaBaby\n",
      "27. 'You Need To Calm Down' by Taylor Swift\n",
      "28. 'TOES' by DaBaby Featuring Lil Baby & Moneybagg Yo\n",
      "29. 'Memories' by Maroon 5\n",
      "30. 'Good As Hell' by Lizzo\n",
      "31. 'Dancing With A Stranger' by Sam Smith & Normani\n",
      "32. 'My Type' by Saweetie\n",
      "33. 'Without Me' by Halsey\n",
      "34. '223's' by YNW Melly & 9lokknine\n",
      "35. 'Wow.' by Post Malone\n",
      "36. 'Boyfriend' by Ariana Grande & Social House\n",
      "37. 'Hot' by Young Thug Featuring Gunna\n",
      "38. 'One Thing Right' by Marshmello & Kane Brown\n",
      "39. 'The Git Up' by Blanco Brown\n",
      "40. 'Take What You Want' by Post Malone Featuring Ozzy Osbourne & Travis Scott\n",
      "41. 'If I Can't Have You' by Shawn Mendes\n",
      "42. 'Camelot' by NLE Choppa\n",
      "43. 'iPHONE' by DaBaby & Nicki Minaj\n",
      "44. 'Cash Shit' by Megan Thee Stallion Featuring DaBaby\n",
      "45. 'Lover' by Taylor Swift\n",
      "46. 'Prayed For You' by Matt Stell\n",
      "47. 'OFF THE RIP' by DaBaby\n",
      "48. 'I Don't Know About You' by Chris Lane\n",
      "49. 'POP STAR' by DaBaby Featuring Kevin Gates\n",
      "50. 'The London' by Young Thug, J. Cole & Travis Scott\n",
      "51. 'RAW SHIT' by DaBaby Featuring Migos\n",
      "52. 'Enemies' by Post Malone Featuring DaBaby\n",
      "53. 'Ballin'' by Mustard Featuring Roddy Ricch\n",
      "54. 'Time' by NF\n",
      "55. 'GOSPEL' by DaBaby Featuring Chance The Rapper, Gucci Mane & YK Osiris\n",
      "56. 'Writing On The Wall' by French Montana Featuring Post Malone, Cardi B & Rvssian\n",
      "57. 'Heat' by Chris Brown Featuring Gunna\n",
      "58. 'Even Though I'm Leaving' by Luke Combs\n",
      "59. 'Living' by Dierks Bentley\n",
      "60. 'Graveyard' by Halsey\n",
      "61. 'Liar' by Camila Cabello\n",
      "62. 'One Man Band' by Old Dominion\n",
      "63. 'REALLY' by DaBaby Featuring Stunna 4 Vegas\n",
      "64. 'Southbound' by Carrie Underwood\n",
      "65. 'Love You Too Late' by Cole Swindell\n",
      "66. 'Good Vibes' by Chris Janson\n",
      "67. 'Motivation' by Normani\n",
      "68. 'Saint-Tropez' by Post Malone\n",
      "69. 'XXL' by DaBaby\n",
      "70. 'China' by Anuel AA, Daddy Yankee, Karol G, Ozuna & J Balvin\n",
      "71. 'Don't Call Me Angel (Charlie's Angels)' by Ariana Grande, Miley Cyrus & Lana Del Rey\n",
      "72. 'Lalala' by Y2K & bbno$\n",
      "73. 'PROLLY HEARD' by DaBaby\n",
      "74. 'Hollywood's Bleeding' by Post Malone\n",
      "75. 'Playing Games' by Summer Walker\n",
      "76. 'Hot Girl Bummer' by blackbear\n",
      "77. 'Every Little Thing' by Russell Dickerson\n",
      "78. 'Otro Trago' by Sech, Darell, Nicky Jam, Ozuna & Anuel AA\n",
      "79. 'Baby Sitter' by DaBaby Featuring Offset\n",
      "80. 'Die For Me' by Post Malone Featuring Future & Halsey\n",
      "81. 'Chicken Noodle Soup' by j-hope Featuring Becky G.\n",
      "82. 'Callaita' by Bad Bunny & Tainy\n",
      "83. 'Tip Of My Tongue' by Kenny Chesney\n",
      "84. 'Heartache Medication' by Jon Pardi\n",
      "85. 'What Happens In A Small Town' by Brantley Gilbert + Lindsay Ell\n",
      "86. 'By My Lonely' by Kevin Gates\n",
      "87. 'On The Road' by Post Malone Featuring Meek Mill & Lil Baby\n",
      "88. 'Right Back' by Khalid Featuring A Boogie Wit da Hoodie\n",
      "89. 'There He Go' by DaBaby\n",
      "90. 'F.N' by Lil Tjay\n",
      "91. 'Remember You Young' by Thomas Rhett\n",
      "92. 'The Ones That Didn't Make It Back Home' by Justin Moore\n",
      "93. 'Bad Bad Bad' by Young Thug Featuring Lil Baby\n",
      "94. 'Wish Wish' by DJ Khaled Featuring Cardi B & 21 Savage\n",
      "95. 'Higher Love' by Kygo X Whitney Houston\n",
      "96. 'Self Control' by YoungBoy Never Broke Again\n",
      "97. 'No Me Conoce' by Jhay Cortez, J Balvin & Bad Bunny\n",
      "98. 'Adicto' by Tainy, Anuel AA & Ozuna\n",
      "99. 'What If I Never Get Over You' by Lady Antebellum\n",
      "100. 'Did It Again' by Lil Tecca\n"
     ]
    }
   ],
   "source": [
    "old_chart = billboard.ChartData('hot-100', date='2019-10-12')\n",
    "print(old_chart)"
   ]
  },
  {
   "cell_type": "code",
   "execution_count": null,
   "metadata": {},
   "outputs": [],
   "source": []
  }
 ],
 "metadata": {
  "kernelspec": {
   "display_name": "Python 3",
   "language": "python",
   "name": "python3"
  },
  "language_info": {
   "codemirror_mode": {
    "name": "ipython",
    "version": 3
   },
   "file_extension": ".py",
   "mimetype": "text/x-python",
   "name": "python",
   "nbconvert_exporter": "python",
   "pygments_lexer": "ipython3",
   "version": "3.7.3"
  }
 },
 "nbformat": 4,
 "nbformat_minor": 2
}
